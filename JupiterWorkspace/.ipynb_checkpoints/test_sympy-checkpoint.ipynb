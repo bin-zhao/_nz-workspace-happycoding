{
 "cells": [
  {
   "cell_type": "markdown",
   "id": "c42b20b8-f7d5-433a-90ae-d2c34244ad51",
   "metadata": {},
   "source": [
    "# SymPy Unit Test"
   ]
  },
  {
   "cell_type": "markdown",
   "id": "b1327df4-8d6d-4a74-8bae-ef29bc7bfd84",
   "metadata": {},
   "source": [
    "之前简单看过一次，得到的结论是不如Julia。而且，没有重视。\n",
    "<br/>\n",
    "这次看，也许在语法上不如Julia直观，但是，很有用。\n",
    "<br/>\n",
    "和理想中有差别，但是，方向是对的，只是缺东西。\n",
    "<br/>\n",
    "**TODO(zz) 花些时间确认下能做到什么程度**"
   ]
  },
  {
   "cell_type": "code",
   "execution_count": 3,
   "id": "f4994279-cca2-414b-8a33-437fc7caaf34",
   "metadata": {},
   "outputs": [],
   "source": [
    "from sympy import symbols, expand, simplify, Eq, solve, diff, integrate, Matrix, sin, series, limit, Function, Eq, dsolve, Derivative"
   ]
  },
  {
   "cell_type": "code",
   "execution_count": 2,
   "id": "86d661f4-5a3b-42a7-9c98-4926f486b7a0",
   "metadata": {},
   "outputs": [
    {
     "name": "stdout",
     "output_type": "stream",
     "text": [
      "x y z\n"
     ]
    }
   ],
   "source": [
    "x, y, z = symbols(\"x y z\")\n",
    "print(x, y, z)"
   ]
  },
  {
   "cell_type": "markdown",
   "id": "52bbf1c7-0ee2-4570-8b4e-d09301fb45d9",
   "metadata": {},
   "source": [
    "不好的地方在于是全展开的，没有什么括号。\n",
    "<br/>\n",
    "有用，但是，没有结合律会差很多。"
   ]
  },
  {
   "cell_type": "code",
   "execution_count": 6,
   "id": "33958044-018d-4f14-9600-113c8ca1a046",
   "metadata": {},
   "outputs": [
    {
     "name": "stdout",
     "output_type": "stream",
     "text": [
      "Expanded:  x**3 + 3*x**2*y + 3*x*y**2 + y**3\n",
      "Simplified:  x**3 + 3*x**2*y + 3*x*y**2 + y**3\n"
     ]
    }
   ],
   "source": [
    "expr = (x + y) ** 3\n",
    "expanded_expr = expand(expr)\n",
    "simplified_expr = simplify(expanded_expr)\n",
    "\n",
    "print(\"Expanded: \", expanded_expr)\n",
    "print(\"Simplified: \", simplified_expr)"
   ]
  },
  {
   "cell_type": "markdown",
   "id": "09f3e20d-eb6f-45cf-883d-8ab44238679e",
   "metadata": {},
   "source": [
    "解方程。"
   ]
  },
  {
   "cell_type": "code",
   "execution_count": 7,
   "id": "0b2755cc-15b5-4a35-b832-85f428a382c1",
   "metadata": {},
   "outputs": [
    {
     "name": "stdout",
     "output_type": "stream",
     "text": [
      "Solutions:  [-2, -1]\n"
     ]
    }
   ],
   "source": [
    "equation = Eq(x**2 + 3*x + 2, 0)\n",
    "\n",
    "solutions = solve(equation, x)\n",
    "\n",
    "print(\"Solutions: \", solutions)"
   ]
  },
  {
   "cell_type": "markdown",
   "id": "570d4c73-4e9d-4f98-944e-47f4ea9bdb15",
   "metadata": {},
   "source": [
    "求导。"
   ]
  },
  {
   "cell_type": "code",
   "execution_count": 8,
   "id": "2d8b3b59-99c4-42fd-bc01-97f9e6a0d8d7",
   "metadata": {},
   "outputs": [
    {
     "name": "stdout",
     "output_type": "stream",
     "text": [
      "Derivative:  3*x**2\n"
     ]
    }
   ],
   "source": [
    "derivative = diff(x**3, x)\n",
    "\n",
    "print(\"Derivative: \", derivative)"
   ]
  },
  {
   "cell_type": "code",
   "execution_count": 9,
   "id": "d0e4b34c-65e4-45e4-925f-87ae2541e749",
   "metadata": {},
   "outputs": [
    {
     "name": "stdout",
     "output_type": "stream",
     "text": [
      "Integral:  x**4/4\n"
     ]
    }
   ],
   "source": [
    "integral = integrate(x**3, x)\n",
    "\n",
    "print(\"Integral: \", integral)"
   ]
  },
  {
   "cell_type": "code",
   "execution_count": 18,
   "id": "fde5e21f-c57c-4d1e-85d5-f63d18f35a61",
   "metadata": {},
   "outputs": [
    {
     "name": "stdout",
     "output_type": "stream",
     "text": [
      "<bound method MatrixBase.inv of Matrix([\n",
      "[1, 2],\n",
      "[3, 4]])>\n",
      "Matrix A: \n",
      "Matrix([[1, 2], [3, 4]])\n",
      "Determinant of A:  -2\n",
      "Transpose of A: \n",
      "Matrix([[1, 3], [2, 4]])\n",
      "Matrix([[-2, 1], [3/2, -1/2]])\n"
     ]
    }
   ],
   "source": [
    "A = Matrix([[x, y], [z, 1]])\n",
    "A = Matrix([[1, 2], [3, 4]])\n",
    "\n",
    "det_A = A.det()\n",
    "\n",
    "A_T = A.T\n",
    "\n",
    "# print(A.inv)\n",
    "# print(A.lu)  # No\n",
    "\n",
    "print(\"Matrix A: \")\n",
    "print(A)\n",
    "print(\"Determinant of A: \", det_A)\n",
    "print(\"Transpose of A: \")\n",
    "print(A_T)\n",
    "print(A.inv())"
   ]
  },
  {
   "cell_type": "markdown",
   "id": "67c54511-2e52-48e5-a22b-db41b2ea7a60",
   "metadata": {},
   "source": [
    "级数。"
   ]
  },
  {
   "cell_type": "code",
   "execution_count": 19,
   "id": "2a38b47e-c292-4a2f-8604-5eb4596b0bd3",
   "metadata": {},
   "outputs": [
    {
     "name": "stdout",
     "output_type": "stream",
     "text": [
      "Taylor Series of sin(x):  x - x**3/6 + x**5/120 + O(x**6)\n"
     ]
    }
   ],
   "source": [
    "taylor_series = series(sin(x), x, 0, 6)\n",
    "\n",
    "print(\"Taylor Series of sin(x): \", taylor_series)"
   ]
  },
  {
   "cell_type": "code",
   "execution_count": 20,
   "id": "3a577307-4851-4088-8d6d-0bff55d47b64",
   "metadata": {},
   "outputs": [
    {
     "name": "stdout",
     "output_type": "stream",
     "text": [
      "Limit of sin(x)/x as x approaches 0:  1\n"
     ]
    }
   ],
   "source": [
    "lim = limit(sin(x) / x, x, 0)\n",
    "\n",
    "print(\"Limit of sin(x)/x as x approaches 0: \", lim)"
   ]
  },
  {
   "cell_type": "code",
   "execution_count": 21,
   "id": "74eec486-03d5-42dd-9a56-013251dd2db4",
   "metadata": {},
   "outputs": [
    {
     "name": "stdout",
     "output_type": "stream",
     "text": [
      "Solution to differential equation:  Eq(y(t), C1*exp(-t))\n"
     ]
    }
   ],
   "source": [
    "t = symbols(\"t\")\n",
    "y = Function(\"y\")(t)\n",
    "\n",
    "diff_eq = Eq(Derivative(y, t) + y, 0)\n",
    "\n",
    "solution = dsolve(diff_eq, y)\n",
    "\n",
    "print(\"Solution to differential equation: \", solution)"
   ]
  },
  {
   "cell_type": "code",
   "execution_count": null,
   "id": "43131f14-d327-4062-8818-4160348c6e87",
   "metadata": {},
   "outputs": [],
   "source": []
  }
 ],
 "metadata": {
  "kernelspec": {
   "display_name": "Python 3 (ipykernel)",
   "language": "python",
   "name": "python3"
  },
  "language_info": {
   "codemirror_mode": {
    "name": "ipython",
    "version": 3
   },
   "file_extension": ".py",
   "mimetype": "text/x-python",
   "name": "python",
   "nbconvert_exporter": "python",
   "pygments_lexer": "ipython3",
   "version": "3.10.9"
  }
 },
 "nbformat": 4,
 "nbformat_minor": 5
}
